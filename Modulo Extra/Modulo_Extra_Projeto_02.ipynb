{
 "cells": [
  {
   "cell_type": "markdown",
   "metadata": {},
   "source": [
    "# Projeto 2 - Classificador multi-rótulo - arXiv Paper Abstract\n",
    "\n",
    "## arXiv Paper Abstract - Kaggle\n",
    "Este é um conjunto de artigos contidos no arXiv com múltiplo rótulos."
   ]
  },
  {
   "cell_type": "markdown",
   "metadata": {},
   "source": [
    "## Sobre este projeto\n",
    "Os principais pontos que serão avaliados:\n",
    " - Extração de dados\n",
    " - Manipulação de dados e criação de gráficos simples com o Pandas\n",
    " - Criar um modelo de predição\n",
    " - Apresentação dos resultados"
   ]
  },
  {
   "cell_type": "markdown",
   "metadata": {},
   "source": [
    "## Preparação do ambiente\n",
    "Faça o download e carregue o dataset arXiv Paper Abstracts."
   ]
  },
  {
   "cell_type": "code",
   "execution_count": 45,
   "metadata": {},
   "outputs": [],
   "source": [
    "import pandas as pd\n",
    "import numpy as np\n",
    "import re\n",
    "from nltk import word_tokenize\n",
    "from nltk.corpus import stopwords\n",
    "from nltk.stem import WordNetLemmatizer\n",
    "from nltk.stem import PorterStemmer\n",
    "\n",
    "from sklearn.preprocessing import MultiLabelBinarizer\n",
    "from sklearn.feature_extraction.text import CountVectorizer\n",
    "from sklearn.feature_extraction.text import TfidfTransformer\n",
    "from sklearn.model_selection import train_test_split\n"
   ]
  },
  {
   "cell_type": "markdown",
   "metadata": {},
   "source": [
    "## Exercícios"
   ]
  },
  {
   "cell_type": "markdown",
   "metadata": {},
   "source": [
    "### Questão 1) Faça a leitura dos dados e implemente rotinas de pré-processamento:"
   ]
  },
  {
   "cell_type": "code",
   "execution_count": 46,
   "metadata": {},
   "outputs": [
    {
     "data": {
      "text/html": [
       "<div>\n",
       "<style scoped>\n",
       "    .dataframe tbody tr th:only-of-type {\n",
       "        vertical-align: middle;\n",
       "    }\n",
       "\n",
       "    .dataframe tbody tr th {\n",
       "        vertical-align: top;\n",
       "    }\n",
       "\n",
       "    .dataframe thead th {\n",
       "        text-align: right;\n",
       "    }\n",
       "</style>\n",
       "<table border=\"1\" class=\"dataframe\">\n",
       "  <thead>\n",
       "    <tr style=\"text-align: right;\">\n",
       "      <th></th>\n",
       "      <th>terms</th>\n",
       "      <th>titles</th>\n",
       "      <th>abstracts</th>\n",
       "    </tr>\n",
       "  </thead>\n",
       "  <tbody>\n",
       "    <tr>\n",
       "      <th>0</th>\n",
       "      <td>['cs.LG']</td>\n",
       "      <td>Multi-Level Attention Pooling for Graph Neural...</td>\n",
       "      <td>Graph neural networks (GNNs) have been widely ...</td>\n",
       "    </tr>\n",
       "    <tr>\n",
       "      <th>1</th>\n",
       "      <td>['cs.LG', 'cs.AI']</td>\n",
       "      <td>Decision Forests vs. Deep Networks: Conceptual...</td>\n",
       "      <td>Deep networks and decision forests (such as ra...</td>\n",
       "    </tr>\n",
       "    <tr>\n",
       "      <th>2</th>\n",
       "      <td>['cs.LG', 'cs.CR', 'stat.ML']</td>\n",
       "      <td>Power up! Robust Graph Convolutional Network v...</td>\n",
       "      <td>Graph convolutional networks (GCNs) are powerf...</td>\n",
       "    </tr>\n",
       "    <tr>\n",
       "      <th>3</th>\n",
       "      <td>['cs.LG', 'cs.CR']</td>\n",
       "      <td>Releasing Graph Neural Networks with Different...</td>\n",
       "      <td>With the increasing popularity of Graph Neural...</td>\n",
       "    </tr>\n",
       "    <tr>\n",
       "      <th>4</th>\n",
       "      <td>['cs.LG']</td>\n",
       "      <td>Recurrence-Aware Long-Term Cognitive Network f...</td>\n",
       "      <td>Machine learning solutions for pattern classif...</td>\n",
       "    </tr>\n",
       "  </tbody>\n",
       "</table>\n",
       "</div>"
      ],
      "text/plain": [
       "                           terms  \\\n",
       "0                      ['cs.LG']   \n",
       "1             ['cs.LG', 'cs.AI']   \n",
       "2  ['cs.LG', 'cs.CR', 'stat.ML']   \n",
       "3             ['cs.LG', 'cs.CR']   \n",
       "4                      ['cs.LG']   \n",
       "\n",
       "                                              titles  \\\n",
       "0  Multi-Level Attention Pooling for Graph Neural...   \n",
       "1  Decision Forests vs. Deep Networks: Conceptual...   \n",
       "2  Power up! Robust Graph Convolutional Network v...   \n",
       "3  Releasing Graph Neural Networks with Different...   \n",
       "4  Recurrence-Aware Long-Term Cognitive Network f...   \n",
       "\n",
       "                                           abstracts  \n",
       "0  Graph neural networks (GNNs) have been widely ...  \n",
       "1  Deep networks and decision forests (such as ra...  \n",
       "2  Graph convolutional networks (GCNs) are powerf...  \n",
       "3  With the increasing popularity of Graph Neural...  \n",
       "4  Machine learning solutions for pattern classif...  "
      ]
     },
     "execution_count": 46,
     "metadata": {},
     "output_type": "execute_result"
    }
   ],
   "source": [
    "df = pd.read_csv('dados/arxiv_data_210930-054931.csv')\n",
    "df.head()"
   ]
  },
  {
   "cell_type": "code",
   "execution_count": 47,
   "metadata": {},
   "outputs": [
    {
     "data": {
      "text/plain": [
       "(56181, 3)"
      ]
     },
     "execution_count": 47,
     "metadata": {},
     "output_type": "execute_result"
    }
   ],
   "source": [
    "df.shape"
   ]
  },
  {
   "cell_type": "markdown",
   "metadata": {},
   "source": [
    "#### a) Implemente e justifique suas ações em relação ao tratamento dos rótulos (1,5 pontos)"
   ]
  },
  {
   "cell_type": "markdown",
   "metadata": {},
   "source": [
    "Será realizada a remoção de espaços entre os rótulos assi como subdivisões por virgula com o comando split, e esse novo conjunto será posto em uma nova coluna no DataFrame com nome de classes, após isso será realizada a contagem de frequencia de cada rótulo com objetivo de remover rótulos com pouca frequencia, e por ultimo será realizada a binarização dos rótulos para ser usado nos modelos futuros."
   ]
  },
  {
   "cell_type": "code",
   "execution_count": 48,
   "metadata": {},
   "outputs": [],
   "source": [
    "df['classes']  = df.terms.apply(lambda x : [n.strip() for n in x.split(',')]).tolist()\n"
   ]
  },
  {
   "cell_type": "code",
   "execution_count": 122,
   "metadata": {},
   "outputs": [
    {
     "data": {
      "text/html": [
       "<div>\n",
       "<style scoped>\n",
       "    .dataframe tbody tr th:only-of-type {\n",
       "        vertical-align: middle;\n",
       "    }\n",
       "\n",
       "    .dataframe tbody tr th {\n",
       "        vertical-align: top;\n",
       "    }\n",
       "\n",
       "    .dataframe thead th {\n",
       "        text-align: right;\n",
       "    }\n",
       "</style>\n",
       "<table border=\"1\" class=\"dataframe\">\n",
       "  <thead>\n",
       "    <tr style=\"text-align: right;\">\n",
       "      <th></th>\n",
       "      <th>terms</th>\n",
       "      <th>titles</th>\n",
       "      <th>abstracts</th>\n",
       "      <th>classes</th>\n",
       "    </tr>\n",
       "  </thead>\n",
       "  <tbody>\n",
       "    <tr>\n",
       "      <th>0</th>\n",
       "      <td>['cs.LG']</td>\n",
       "      <td>Multi-Level Attention Pooling for Graph Neural...</td>\n",
       "      <td>Graph neural networks (GNNs) have been widely ...</td>\n",
       "      <td>[['cs.LG']]</td>\n",
       "    </tr>\n",
       "    <tr>\n",
       "      <th>1</th>\n",
       "      <td>['cs.LG', 'cs.AI']</td>\n",
       "      <td>Decision Forests vs. Deep Networks: Conceptual...</td>\n",
       "      <td>Deep networks and decision forests (such as ra...</td>\n",
       "      <td>[['cs.LG', 'cs.AI']]</td>\n",
       "    </tr>\n",
       "    <tr>\n",
       "      <th>2</th>\n",
       "      <td>['cs.LG', 'cs.CR', 'stat.ML']</td>\n",
       "      <td>Power up! Robust Graph Convolutional Network v...</td>\n",
       "      <td>Graph convolutional networks (GCNs) are powerf...</td>\n",
       "      <td>[['cs.LG', 'cs.CR', 'stat.ML']]</td>\n",
       "    </tr>\n",
       "    <tr>\n",
       "      <th>3</th>\n",
       "      <td>['cs.LG', 'cs.CR']</td>\n",
       "      <td>Releasing Graph Neural Networks with Different...</td>\n",
       "      <td>With the increasing popularity of Graph Neural...</td>\n",
       "      <td>[['cs.LG', 'cs.CR']]</td>\n",
       "    </tr>\n",
       "    <tr>\n",
       "      <th>4</th>\n",
       "      <td>['cs.LG']</td>\n",
       "      <td>Recurrence-Aware Long-Term Cognitive Network f...</td>\n",
       "      <td>Machine learning solutions for pattern classif...</td>\n",
       "      <td>[['cs.LG']]</td>\n",
       "    </tr>\n",
       "  </tbody>\n",
       "</table>\n",
       "</div>"
      ],
      "text/plain": [
       "                           terms  \\\n",
       "0                      ['cs.LG']   \n",
       "1             ['cs.LG', 'cs.AI']   \n",
       "2  ['cs.LG', 'cs.CR', 'stat.ML']   \n",
       "3             ['cs.LG', 'cs.CR']   \n",
       "4                      ['cs.LG']   \n",
       "\n",
       "                                              titles  \\\n",
       "0  Multi-Level Attention Pooling for Graph Neural...   \n",
       "1  Decision Forests vs. Deep Networks: Conceptual...   \n",
       "2  Power up! Robust Graph Convolutional Network v...   \n",
       "3  Releasing Graph Neural Networks with Different...   \n",
       "4  Recurrence-Aware Long-Term Cognitive Network f...   \n",
       "\n",
       "                                           abstracts  \\\n",
       "0  Graph neural networks (GNNs) have been widely ...   \n",
       "1  Deep networks and decision forests (such as ra...   \n",
       "2  Graph convolutional networks (GCNs) are powerf...   \n",
       "3  With the increasing popularity of Graph Neural...   \n",
       "4  Machine learning solutions for pattern classif...   \n",
       "\n",
       "                           classes  \n",
       "0                      [['cs.LG']]  \n",
       "1             [['cs.LG', 'cs.AI']]  \n",
       "2  [['cs.LG', 'cs.CR', 'stat.ML']]  \n",
       "3             [['cs.LG', 'cs.CR']]  \n",
       "4                      [['cs.LG']]  "
      ]
     },
     "execution_count": 122,
     "metadata": {},
     "output_type": "execute_result"
    }
   ],
   "source": [
    "df.head()"
   ]
  },
  {
   "cell_type": "code",
   "execution_count": 5,
   "metadata": {},
   "outputs": [
    {
     "data": {
      "text/plain": [
       "(3402,)"
      ]
     },
     "execution_count": 5,
     "metadata": {},
     "output_type": "execute_result"
    }
   ],
   "source": [
    "#pd.set_option('display.max_rows',None)\n",
    "count = df.terms.value_counts()\n",
    "count.shape\n"
   ]
  },
  {
   "cell_type": "code",
   "execution_count": 6,
   "metadata": {},
   "outputs": [
    {
     "data": {
      "text/plain": [
       "(43,)"
      ]
     },
     "execution_count": 6,
     "metadata": {},
     "output_type": "execute_result"
    }
   ],
   "source": [
    "manter = count[count > 99]\n",
    "manter.shape"
   ]
  },
  {
   "cell_type": "markdown",
   "metadata": {},
   "source": [
    "Será mantido os rótulos com frequencias superior a 100"
   ]
  },
  {
   "cell_type": "code",
   "execution_count": 7,
   "metadata": {},
   "outputs": [
    {
     "data": {
      "text/plain": [
       "['cs.CV']                                 18719\n",
       "['cs.LG', 'stat.ML']                       5431\n",
       "['cs.LG']                                  2871\n",
       "['cs.CV', 'cs.LG']                         2170\n",
       "['cs.LG', 'cs.AI']                         1783\n",
       "['cs.LG', 'cs.AI', 'stat.ML']              1512\n",
       "['stat.ML', 'cs.LG']                       1497\n",
       "['cs.CV', 'cs.AI']                          997\n",
       "['cs.CV', 'cs.LG', 'eess.IV']               891\n",
       "['cs.CV', 'eess.IV']                        801\n",
       "['cs.CV', 'cs.GR']                          693\n",
       "['cs.LG', 'cs.CV', 'stat.ML']               682\n",
       "['cs.CV', 'cs.RO']                          652\n",
       "['cs.CV', 'cs.AI', 'cs.LG']                 564\n",
       "['cs.CV', 'cs.LG', 'stat.ML']               469\n",
       "['cs.LG', 'cs.CV']                          436\n",
       "['cs.CV', 'cs.CL']                          273\n",
       "['stat.ML']                                 272\n",
       "['cs.CV', 'cs.GR', 'cs.LG']                 261\n",
       "['cs.LG', 'cs.CL', 'stat.ML']               256\n",
       "['cs.LG', 'cs.SI', 'stat.ML']               237\n",
       "['cs.CV', 'cs.MM']                          215\n",
       "['cs.LG', 'math.OC', 'stat.ML']             204\n",
       "['cs.LG', 'cs.NE', 'stat.ML']               196\n",
       "['cs.CV', 'cs.LG', 'cs.RO']                 186\n",
       "['cs.LG', 'cs.CL']                          169\n",
       "['cs.LG', 'cs.AI', 'cs.CV']                 167\n",
       "['cs.LG', 'cs.CR', 'stat.ML']               163\n",
       "['cs.LG', 'eess.SP', 'stat.ML']             160\n",
       "['cs.LG', 'eess.SP']                        152\n",
       "['cs.LG', 'cs.SI']                          150\n",
       "['stat.ML', 'cs.AI', 'cs.LG']               142\n",
       "['cs.LG', 'cs.NE']                          141\n",
       "['cs.CV', 'cs.CL', 'cs.LG']                 139\n",
       "['cs.LG', 'cs.AI', 'cs.RO']                 137\n",
       "['cs.CV', 'cs.LG', 'cs.NE']                 126\n",
       "['cs.LG', 'cs.CR']                          125\n",
       "['cs.LG', 'cs.AI', 'cs.RO', 'stat.ML']      123\n",
       "['cs.CV', 'stat.ML']                        114\n",
       "['cs.LG', 'cs.RO']                          114\n",
       "['stat.ML', 'cs.CV', 'cs.LG']               107\n",
       "['cs.LG', 'cs.AI', 'cs.CV', 'stat.ML']      107\n",
       "['cs.LG', 'cs.RO', 'stat.ML']               100\n",
       "Name: terms, dtype: int64"
      ]
     },
     "execution_count": 7,
     "metadata": {},
     "output_type": "execute_result"
    }
   ],
   "source": [
    "manter"
   ]
  },
  {
   "cell_type": "code",
   "execution_count": 8,
   "metadata": {},
   "outputs": [
    {
     "data": {
      "text/plain": [
       "(44704, 4)"
      ]
     },
     "execution_count": 8,
     "metadata": {},
     "output_type": "execute_result"
    }
   ],
   "source": [
    "df = df[df.terms.isin(manter.index)]\n",
    "df.shape"
   ]
  },
  {
   "cell_type": "code",
   "execution_count": 9,
   "metadata": {},
   "outputs": [],
   "source": [
    "stop_words = stopwords.words('english')\n",
    "lemmatizer = WordNetLemmatizer()\n",
    "stemmer = PorterStemmer()\n",
    "mlb = MultiLabelBinarizer()\n",
    "vectorizer = CountVectorizer(analyzer='word', ngram_range=(2, 2))\n",
    "tfidf_transformer = TfidfTransformer()"
   ]
  },
  {
   "cell_type": "code",
   "execution_count": 10,
   "metadata": {},
   "outputs": [
    {
     "data": {
      "text/html": [
       "<div>\n",
       "<style scoped>\n",
       "    .dataframe tbody tr th:only-of-type {\n",
       "        vertical-align: middle;\n",
       "    }\n",
       "\n",
       "    .dataframe tbody tr th {\n",
       "        vertical-align: top;\n",
       "    }\n",
       "\n",
       "    .dataframe thead th {\n",
       "        text-align: right;\n",
       "    }\n",
       "</style>\n",
       "<table border=\"1\" class=\"dataframe\">\n",
       "  <thead>\n",
       "    <tr style=\"text-align: right;\">\n",
       "      <th></th>\n",
       "      <th>terms</th>\n",
       "      <th>titles</th>\n",
       "      <th>abstracts</th>\n",
       "      <th>classes</th>\n",
       "    </tr>\n",
       "  </thead>\n",
       "  <tbody>\n",
       "    <tr>\n",
       "      <th>0</th>\n",
       "      <td>['cs.LG']</td>\n",
       "      <td>Multi-Level Attention Pooling for Graph Neural...</td>\n",
       "      <td>Graph neural networks (GNNs) have been widely ...</td>\n",
       "      <td>[['cs.LG']]</td>\n",
       "    </tr>\n",
       "    <tr>\n",
       "      <th>1</th>\n",
       "      <td>['cs.LG', 'cs.AI']</td>\n",
       "      <td>Decision Forests vs. Deep Networks: Conceptual...</td>\n",
       "      <td>Deep networks and decision forests (such as ra...</td>\n",
       "      <td>[['cs.LG', 'cs.AI']]</td>\n",
       "    </tr>\n",
       "    <tr>\n",
       "      <th>2</th>\n",
       "      <td>['cs.LG', 'cs.CR', 'stat.ML']</td>\n",
       "      <td>Power up! Robust Graph Convolutional Network v...</td>\n",
       "      <td>Graph convolutional networks (GCNs) are powerf...</td>\n",
       "      <td>[['cs.LG', 'cs.CR', 'stat.ML']]</td>\n",
       "    </tr>\n",
       "    <tr>\n",
       "      <th>3</th>\n",
       "      <td>['cs.LG', 'cs.CR']</td>\n",
       "      <td>Releasing Graph Neural Networks with Different...</td>\n",
       "      <td>With the increasing popularity of Graph Neural...</td>\n",
       "      <td>[['cs.LG', 'cs.CR']]</td>\n",
       "    </tr>\n",
       "    <tr>\n",
       "      <th>4</th>\n",
       "      <td>['cs.LG']</td>\n",
       "      <td>Recurrence-Aware Long-Term Cognitive Network f...</td>\n",
       "      <td>Machine learning solutions for pattern classif...</td>\n",
       "      <td>[['cs.LG']]</td>\n",
       "    </tr>\n",
       "  </tbody>\n",
       "</table>\n",
       "</div>"
      ],
      "text/plain": [
       "                           terms  \\\n",
       "0                      ['cs.LG']   \n",
       "1             ['cs.LG', 'cs.AI']   \n",
       "2  ['cs.LG', 'cs.CR', 'stat.ML']   \n",
       "3             ['cs.LG', 'cs.CR']   \n",
       "4                      ['cs.LG']   \n",
       "\n",
       "                                              titles  \\\n",
       "0  Multi-Level Attention Pooling for Graph Neural...   \n",
       "1  Decision Forests vs. Deep Networks: Conceptual...   \n",
       "2  Power up! Robust Graph Convolutional Network v...   \n",
       "3  Releasing Graph Neural Networks with Different...   \n",
       "4  Recurrence-Aware Long-Term Cognitive Network f...   \n",
       "\n",
       "                                           abstracts  \\\n",
       "0  Graph neural networks (GNNs) have been widely ...   \n",
       "1  Deep networks and decision forests (such as ra...   \n",
       "2  Graph convolutional networks (GCNs) are powerf...   \n",
       "3  With the increasing popularity of Graph Neural...   \n",
       "4  Machine learning solutions for pattern classif...   \n",
       "\n",
       "                           classes  \n",
       "0                      [['cs.LG']]  \n",
       "1             [['cs.LG', 'cs.AI']]  \n",
       "2  [['cs.LG', 'cs.CR', 'stat.ML']]  \n",
       "3             [['cs.LG', 'cs.CR']]  \n",
       "4                      [['cs.LG']]  "
      ]
     },
     "execution_count": 10,
     "metadata": {},
     "output_type": "execute_result"
    }
   ],
   "source": [
    "df.head()"
   ]
  },
  {
   "cell_type": "markdown",
   "metadata": {},
   "source": [
    "Realizando a transformação binaria dos rótulos."
   ]
  },
  {
   "cell_type": "code",
   "execution_count": 11,
   "metadata": {},
   "outputs": [
    {
     "data": {
      "text/plain": [
       "array([0, 0, 0, 0, 0, 0, 0, 0, 0, 0, 0, 0, 0, 0, 0, 0, 0, 0, 0, 0, 0, 0,\n",
       "       0, 0, 0, 0, 0, 1, 0, 0])"
      ]
     },
     "execution_count": 11,
     "metadata": {},
     "output_type": "execute_result"
    }
   ],
   "source": [
    "y = df.classes\n",
    "mlb.fit(y)\n",
    "y = mlb.transform(y)\n",
    "y[0]"
   ]
  },
  {
   "cell_type": "code",
   "execution_count": 12,
   "metadata": {},
   "outputs": [
    {
     "data": {
      "text/plain": [
       "array([0, 1, 0, 0, 0, 0, 0, 0, 0, 0, 0, 0, 0, 0, 0, 0, 0, 0, 0, 0, 0, 0,\n",
       "       0, 0, 0, 0, 1, 0, 0, 0])"
      ]
     },
     "execution_count": 12,
     "metadata": {},
     "output_type": "execute_result"
    }
   ],
   "source": [
    "y[1]"
   ]
  },
  {
   "cell_type": "code",
   "execution_count": 13,
   "metadata": {},
   "outputs": [
    {
     "data": {
      "text/plain": [
       "(44704, 30)"
      ]
     },
     "execution_count": 13,
     "metadata": {},
     "output_type": "execute_result"
    }
   ],
   "source": [
    "y.shape"
   ]
  },
  {
   "cell_type": "markdown",
   "metadata": {},
   "source": [
    "#### b) Implemente e justifique suas ações em relação aos dados (titles e abstacts) (1,5 pontos)"
   ]
  },
  {
   "cell_type": "markdown",
   "metadata": {},
   "source": [
    "Para tratamento dos titulos e abstracts será realizada a remoção de caracteres especiais assim como a padronização de todo o texto para letras minusculas para logo após fazer a tokenização e lemmatização dos textos removendo palavras desnecessaria (artigos,pronomes, etc.) para a aplicação do modelo.\n",
    "\n",
    "Assim como realizado com os rótulos essa padronização será incrementada em novos campos no DataFrame (new_title, new_abstratc) mantendo a integridade dos dados primários."
   ]
  },
  {
   "cell_type": "code",
   "execution_count": 14,
   "metadata": {},
   "outputs": [],
   "source": [
    "def processamento(tokens):\n",
    "    \n",
    "    token_processado = []\n",
    "    for token in tokens:\n",
    "        token = token.lower()\n",
    "        token = lemmatizer.lemmatize(token)\n",
    "        \n",
    "        if token not in stop_words:\n",
    "            token = stemmer.stem(token)\n",
    "            token_processado.append(token)\n",
    "        \n",
    "    return token_processado"
   ]
  },
  {
   "cell_type": "code",
   "execution_count": 15,
   "metadata": {},
   "outputs": [],
   "source": [
    "documentos_abstract = []\n",
    "for abstract in df.abstracts:\n",
    "    \n",
    "    # expressao regular para remover pontuacoes do texto\n",
    "    abstract = re.sub(r'[^\\w\\s]','', abstract)\n",
    "    tokens = processamento(word_tokenize(abstract))\n",
    "    \n",
    "    documentos_abstract.append(' '.join(tokens))\n",
    "\n"
   ]
  },
  {
   "cell_type": "code",
   "execution_count": 16,
   "metadata": {},
   "outputs": [
    {
     "data": {
      "text/html": [
       "<div>\n",
       "<style scoped>\n",
       "    .dataframe tbody tr th:only-of-type {\n",
       "        vertical-align: middle;\n",
       "    }\n",
       "\n",
       "    .dataframe tbody tr th {\n",
       "        vertical-align: top;\n",
       "    }\n",
       "\n",
       "    .dataframe thead th {\n",
       "        text-align: right;\n",
       "    }\n",
       "</style>\n",
       "<table border=\"1\" class=\"dataframe\">\n",
       "  <thead>\n",
       "    <tr style=\"text-align: right;\">\n",
       "      <th></th>\n",
       "      <th>terms</th>\n",
       "      <th>titles</th>\n",
       "      <th>abstracts</th>\n",
       "      <th>classes</th>\n",
       "      <th>new_abstract</th>\n",
       "    </tr>\n",
       "  </thead>\n",
       "  <tbody>\n",
       "    <tr>\n",
       "      <th>0</th>\n",
       "      <td>['cs.LG']</td>\n",
       "      <td>Multi-Level Attention Pooling for Graph Neural...</td>\n",
       "      <td>Graph neural networks (GNNs) have been widely ...</td>\n",
       "      <td>[['cs.LG']]</td>\n",
       "      <td>graph neural network gnn wide use learn vector...</td>\n",
       "    </tr>\n",
       "    <tr>\n",
       "      <th>1</th>\n",
       "      <td>['cs.LG', 'cs.AI']</td>\n",
       "      <td>Decision Forests vs. Deep Networks: Conceptual...</td>\n",
       "      <td>Deep networks and decision forests (such as ra...</td>\n",
       "      <td>[['cs.LG', 'cs.AI']]</td>\n",
       "      <td>deep network decis forest random forest gradie...</td>\n",
       "    </tr>\n",
       "    <tr>\n",
       "      <th>2</th>\n",
       "      <td>['cs.LG', 'cs.CR', 'stat.ML']</td>\n",
       "      <td>Power up! Robust Graph Convolutional Network v...</td>\n",
       "      <td>Graph convolutional networks (GCNs) are powerf...</td>\n",
       "      <td>[['cs.LG', 'cs.CR', 'stat.ML']]</td>\n",
       "      <td>graph convolut network gcn power tool graphstr...</td>\n",
       "    </tr>\n",
       "    <tr>\n",
       "      <th>3</th>\n",
       "      <td>['cs.LG', 'cs.CR']</td>\n",
       "      <td>Releasing Graph Neural Networks with Different...</td>\n",
       "      <td>With the increasing popularity of Graph Neural...</td>\n",
       "      <td>[['cs.LG', 'cs.CR']]</td>\n",
       "      <td>increas popular graph neural network gnn sever...</td>\n",
       "    </tr>\n",
       "    <tr>\n",
       "      <th>4</th>\n",
       "      <td>['cs.LG']</td>\n",
       "      <td>Recurrence-Aware Long-Term Cognitive Network f...</td>\n",
       "      <td>Machine learning solutions for pattern classif...</td>\n",
       "      <td>[['cs.LG']]</td>\n",
       "      <td>machin learn solut pattern classif problem now...</td>\n",
       "    </tr>\n",
       "  </tbody>\n",
       "</table>\n",
       "</div>"
      ],
      "text/plain": [
       "                           terms  \\\n",
       "0                      ['cs.LG']   \n",
       "1             ['cs.LG', 'cs.AI']   \n",
       "2  ['cs.LG', 'cs.CR', 'stat.ML']   \n",
       "3             ['cs.LG', 'cs.CR']   \n",
       "4                      ['cs.LG']   \n",
       "\n",
       "                                              titles  \\\n",
       "0  Multi-Level Attention Pooling for Graph Neural...   \n",
       "1  Decision Forests vs. Deep Networks: Conceptual...   \n",
       "2  Power up! Robust Graph Convolutional Network v...   \n",
       "3  Releasing Graph Neural Networks with Different...   \n",
       "4  Recurrence-Aware Long-Term Cognitive Network f...   \n",
       "\n",
       "                                           abstracts  \\\n",
       "0  Graph neural networks (GNNs) have been widely ...   \n",
       "1  Deep networks and decision forests (such as ra...   \n",
       "2  Graph convolutional networks (GCNs) are powerf...   \n",
       "3  With the increasing popularity of Graph Neural...   \n",
       "4  Machine learning solutions for pattern classif...   \n",
       "\n",
       "                           classes  \\\n",
       "0                      [['cs.LG']]   \n",
       "1             [['cs.LG', 'cs.AI']]   \n",
       "2  [['cs.LG', 'cs.CR', 'stat.ML']]   \n",
       "3             [['cs.LG', 'cs.CR']]   \n",
       "4                      [['cs.LG']]   \n",
       "\n",
       "                                        new_abstract  \n",
       "0  graph neural network gnn wide use learn vector...  \n",
       "1  deep network decis forest random forest gradie...  \n",
       "2  graph convolut network gcn power tool graphstr...  \n",
       "3  increas popular graph neural network gnn sever...  \n",
       "4  machin learn solut pattern classif problem now...  "
      ]
     },
     "execution_count": 16,
     "metadata": {},
     "output_type": "execute_result"
    }
   ],
   "source": [
    "df['new_abstract'] = documentos_abstract\n",
    "df.head()"
   ]
  },
  {
   "cell_type": "code",
   "execution_count": 17,
   "metadata": {},
   "outputs": [],
   "source": [
    "documentos_title = []\n",
    "for title in df.titles:\n",
    "    \n",
    "    # expressao regular para remover pontuacoes do texto\n",
    "    title = re.sub(r'[^\\w\\s]','', title)\n",
    "    tokens = processamento(word_tokenize(title))\n",
    "    \n",
    "    documentos_title.append(' '.join(tokens))"
   ]
  },
  {
   "cell_type": "code",
   "execution_count": 18,
   "metadata": {},
   "outputs": [
    {
     "data": {
      "text/html": [
       "<div>\n",
       "<style scoped>\n",
       "    .dataframe tbody tr th:only-of-type {\n",
       "        vertical-align: middle;\n",
       "    }\n",
       "\n",
       "    .dataframe tbody tr th {\n",
       "        vertical-align: top;\n",
       "    }\n",
       "\n",
       "    .dataframe thead th {\n",
       "        text-align: right;\n",
       "    }\n",
       "</style>\n",
       "<table border=\"1\" class=\"dataframe\">\n",
       "  <thead>\n",
       "    <tr style=\"text-align: right;\">\n",
       "      <th></th>\n",
       "      <th>terms</th>\n",
       "      <th>titles</th>\n",
       "      <th>abstracts</th>\n",
       "      <th>classes</th>\n",
       "      <th>new_abstract</th>\n",
       "      <th>new_titles</th>\n",
       "    </tr>\n",
       "  </thead>\n",
       "  <tbody>\n",
       "    <tr>\n",
       "      <th>0</th>\n",
       "      <td>['cs.LG']</td>\n",
       "      <td>Multi-Level Attention Pooling for Graph Neural...</td>\n",
       "      <td>Graph neural networks (GNNs) have been widely ...</td>\n",
       "      <td>[['cs.LG']]</td>\n",
       "      <td>graph neural network gnn wide use learn vector...</td>\n",
       "      <td>multilevel attent pool graph neural network un...</td>\n",
       "    </tr>\n",
       "    <tr>\n",
       "      <th>1</th>\n",
       "      <td>['cs.LG', 'cs.AI']</td>\n",
       "      <td>Decision Forests vs. Deep Networks: Conceptual...</td>\n",
       "      <td>Deep networks and decision forests (such as ra...</td>\n",
       "      <td>[['cs.LG', 'cs.AI']]</td>\n",
       "      <td>deep network decis forest random forest gradie...</td>\n",
       "      <td>decis forest v deep network conceptu similar e...</td>\n",
       "    </tr>\n",
       "    <tr>\n",
       "      <th>2</th>\n",
       "      <td>['cs.LG', 'cs.CR', 'stat.ML']</td>\n",
       "      <td>Power up! Robust Graph Convolutional Network v...</td>\n",
       "      <td>Graph convolutional networks (GCNs) are powerf...</td>\n",
       "      <td>[['cs.LG', 'cs.CR', 'stat.ML']]</td>\n",
       "      <td>graph convolut network gcn power tool graphstr...</td>\n",
       "      <td>power robust graph convolut network via graph ...</td>\n",
       "    </tr>\n",
       "    <tr>\n",
       "      <th>3</th>\n",
       "      <td>['cs.LG', 'cs.CR']</td>\n",
       "      <td>Releasing Graph Neural Networks with Different...</td>\n",
       "      <td>With the increasing popularity of Graph Neural...</td>\n",
       "      <td>[['cs.LG', 'cs.CR']]</td>\n",
       "      <td>increas popular graph neural network gnn sever...</td>\n",
       "      <td>releas graph neural network differenti privaci...</td>\n",
       "    </tr>\n",
       "    <tr>\n",
       "      <th>4</th>\n",
       "      <td>['cs.LG']</td>\n",
       "      <td>Recurrence-Aware Long-Term Cognitive Network f...</td>\n",
       "      <td>Machine learning solutions for pattern classif...</td>\n",
       "      <td>[['cs.LG']]</td>\n",
       "      <td>machin learn solut pattern classif problem now...</td>\n",
       "      <td>recurrenceawar longterm cognit network explain...</td>\n",
       "    </tr>\n",
       "  </tbody>\n",
       "</table>\n",
       "</div>"
      ],
      "text/plain": [
       "                           terms  \\\n",
       "0                      ['cs.LG']   \n",
       "1             ['cs.LG', 'cs.AI']   \n",
       "2  ['cs.LG', 'cs.CR', 'stat.ML']   \n",
       "3             ['cs.LG', 'cs.CR']   \n",
       "4                      ['cs.LG']   \n",
       "\n",
       "                                              titles  \\\n",
       "0  Multi-Level Attention Pooling for Graph Neural...   \n",
       "1  Decision Forests vs. Deep Networks: Conceptual...   \n",
       "2  Power up! Robust Graph Convolutional Network v...   \n",
       "3  Releasing Graph Neural Networks with Different...   \n",
       "4  Recurrence-Aware Long-Term Cognitive Network f...   \n",
       "\n",
       "                                           abstracts  \\\n",
       "0  Graph neural networks (GNNs) have been widely ...   \n",
       "1  Deep networks and decision forests (such as ra...   \n",
       "2  Graph convolutional networks (GCNs) are powerf...   \n",
       "3  With the increasing popularity of Graph Neural...   \n",
       "4  Machine learning solutions for pattern classif...   \n",
       "\n",
       "                           classes  \\\n",
       "0                      [['cs.LG']]   \n",
       "1             [['cs.LG', 'cs.AI']]   \n",
       "2  [['cs.LG', 'cs.CR', 'stat.ML']]   \n",
       "3             [['cs.LG', 'cs.CR']]   \n",
       "4                      [['cs.LG']]   \n",
       "\n",
       "                                        new_abstract  \\\n",
       "0  graph neural network gnn wide use learn vector...   \n",
       "1  deep network decis forest random forest gradie...   \n",
       "2  graph convolut network gcn power tool graphstr...   \n",
       "3  increas popular graph neural network gnn sever...   \n",
       "4  machin learn solut pattern classif problem now...   \n",
       "\n",
       "                                          new_titles  \n",
       "0  multilevel attent pool graph neural network un...  \n",
       "1  decis forest v deep network conceptu similar e...  \n",
       "2  power robust graph convolut network via graph ...  \n",
       "3  releas graph neural network differenti privaci...  \n",
       "4  recurrenceawar longterm cognit network explain...  "
      ]
     },
     "execution_count": 18,
     "metadata": {},
     "output_type": "execute_result"
    }
   ],
   "source": [
    "df['new_titles'] = documentos_title\n",
    "df.head()"
   ]
  },
  {
   "cell_type": "markdown",
   "metadata": {},
   "source": [
    "### Questão 2) Faça uma análise visual do dataset após o pré-processamento. Explore gráficos e/ou tabelas para mostrar a distribuição dos rótulos. (1,0 ponto)"
   ]
  },
  {
   "cell_type": "code",
   "execution_count": 181,
   "metadata": {},
   "outputs": [],
   "source": [
    "def consulta(termo):\n",
    "    count = 0\n",
    "    for x in df.terms:\n",
    "        if termo in x:\n",
    "            count += 1\n",
    "    return count"
   ]
  },
  {
   "cell_type": "code",
   "execution_count": 182,
   "metadata": {},
   "outputs": [],
   "source": [
    "count_CV = consulta('cs.CV')\n",
    "count_LG = consulta('cs.LG')\n",
    "count_stat_ML = consulta('stat.ML')\n",
    "count_AI = consulta('cs.AI')\n",
    "count_eess_IV = consulta('eess.IV')\n",
    "count_RO = consulta('cs.RO')\n",
    "count_GR = consulta('cs.GR')\n",
    "count_CL = consulta('cs.CL')\n",
    "count_NE = consulta('cs.NE')\n",
    "count_CR = consulta('cs.CR')\n",
    "count_ees_SP = consulta('eess.SP')\n",
    "count_MM = consulta('cs.MM')\n",
    "count_math_OC = consulta('math.OC')\n",
    "count_SI = consulta('cs.SI')"
   ]
  },
  {
   "cell_type": "code",
   "execution_count": 183,
   "metadata": {},
   "outputs": [],
   "source": [
    "dados = {'Rótulo':['cs.CV','cs.LG','stat.ML','cs.AI','eess.IV','cs.RO','cs.GR','cs.CL','cs.NE','cs.CR','eess.SP','cs.MM','math.OC','cs.SI'],\n",
    "         'Frequencia':[count_CV,count_LG,count_stat_ML,count_AI,count_eess_IV,count_RO,count_GR,count_CL,count_NE,count_CR,count_ees_SP,count_MM,count_math_OC,count_SI]\n",
    "         }"
   ]
  },
  {
   "cell_type": "code",
   "execution_count": 184,
   "metadata": {},
   "outputs": [
    {
     "data": {
      "text/html": [
       "<div>\n",
       "<style scoped>\n",
       "    .dataframe tbody tr th:only-of-type {\n",
       "        vertical-align: middle;\n",
       "    }\n",
       "\n",
       "    .dataframe tbody tr th {\n",
       "        vertical-align: top;\n",
       "    }\n",
       "\n",
       "    .dataframe thead th {\n",
       "        text-align: right;\n",
       "    }\n",
       "</style>\n",
       "<table border=\"1\" class=\"dataframe\">\n",
       "  <thead>\n",
       "    <tr style=\"text-align: right;\">\n",
       "      <th></th>\n",
       "      <th>Rótulo</th>\n",
       "      <th>Frequencia</th>\n",
       "    </tr>\n",
       "  </thead>\n",
       "  <tbody>\n",
       "    <tr>\n",
       "      <th>0</th>\n",
       "      <td>cs.CV</td>\n",
       "      <td>33433</td>\n",
       "    </tr>\n",
       "    <tr>\n",
       "      <th>1</th>\n",
       "      <td>cs.LG</td>\n",
       "      <td>30939</td>\n",
       "    </tr>\n",
       "    <tr>\n",
       "      <th>2</th>\n",
       "      <td>stat.ML</td>\n",
       "      <td>16570</td>\n",
       "    </tr>\n",
       "    <tr>\n",
       "      <th>3</th>\n",
       "      <td>cs.AI</td>\n",
       "      <td>8391</td>\n",
       "    </tr>\n",
       "    <tr>\n",
       "      <th>4</th>\n",
       "      <td>eess.IV</td>\n",
       "      <td>2647</td>\n",
       "    </tr>\n",
       "    <tr>\n",
       "      <th>5</th>\n",
       "      <td>cs.RO</td>\n",
       "      <td>2054</td>\n",
       "    </tr>\n",
       "    <tr>\n",
       "      <th>6</th>\n",
       "      <td>cs.GR</td>\n",
       "      <td>1614</td>\n",
       "    </tr>\n",
       "    <tr>\n",
       "      <th>7</th>\n",
       "      <td>cs.CL</td>\n",
       "      <td>1659</td>\n",
       "    </tr>\n",
       "    <tr>\n",
       "      <th>8</th>\n",
       "      <td>cs.NE</td>\n",
       "      <td>1378</td>\n",
       "    </tr>\n",
       "    <tr>\n",
       "      <th>9</th>\n",
       "      <td>cs.CR</td>\n",
       "      <td>739</td>\n",
       "    </tr>\n",
       "    <tr>\n",
       "      <th>10</th>\n",
       "      <td>eess.SP</td>\n",
       "      <td>658</td>\n",
       "    </tr>\n",
       "    <tr>\n",
       "      <th>11</th>\n",
       "      <td>cs.MM</td>\n",
       "      <td>598</td>\n",
       "    </tr>\n",
       "    <tr>\n",
       "      <th>12</th>\n",
       "      <td>math.OC</td>\n",
       "      <td>724</td>\n",
       "    </tr>\n",
       "    <tr>\n",
       "      <th>13</th>\n",
       "      <td>cs.SI</td>\n",
       "      <td>684</td>\n",
       "    </tr>\n",
       "  </tbody>\n",
       "</table>\n",
       "</div>"
      ],
      "text/plain": [
       "     Rótulo  Frequencia\n",
       "0     cs.CV       33433\n",
       "1     cs.LG       30939\n",
       "2   stat.ML       16570\n",
       "3     cs.AI        8391\n",
       "4   eess.IV        2647\n",
       "5     cs.RO        2054\n",
       "6     cs.GR        1614\n",
       "7     cs.CL        1659\n",
       "8     cs.NE        1378\n",
       "9     cs.CR         739\n",
       "10  eess.SP         658\n",
       "11    cs.MM         598\n",
       "12  math.OC         724\n",
       "13    cs.SI         684"
      ]
     },
     "execution_count": 184,
     "metadata": {},
     "output_type": "execute_result"
    }
   ],
   "source": [
    "dados = pd.DataFrame(dados)\n",
    "dados"
   ]
  },
  {
   "cell_type": "code",
   "execution_count": 187,
   "metadata": {},
   "outputs": [],
   "source": [
    "import seaborn as sns"
   ]
  },
  {
   "cell_type": "code",
   "execution_count": 196,
   "metadata": {},
   "outputs": [
    {
     "data": {
      "text/plain": [
       "<AxesSubplot:title={'center':'Grafico de Frequencia de Rótulos'}, xlabel='Rótulo', ylabel='Frequencia'>"
      ]
     },
     "execution_count": 196,
     "metadata": {},
     "output_type": "execute_result"
    },
    {
     "data": {
      "image/png": "[encoded data removed]",
      "text/plain": [
       "<Figure size 1440x720 with 1 Axes>"
      ]
     },
     "metadata": {
      "needs_background": "light"
     },
     "output_type": "display_data"
    }
   ],
   "source": [
    "ax = sns.barplot(data=dados, x='Rótulo',y='Frequencia')\n",
    "ax.figure.set_size_inches([20,10])\n",
    "ax.set_title('Grafico de Frequencia de Rótulos',fontsize=20)\n",
    "ax"
   ]
  },
  {
   "cell_type": "markdown",
   "metadata": {},
   "source": [
    "### Questão 3) Escolha uma metodologia para extração de características considerando somente o título dos artigos científicos. (1,0 ponto)"
   ]
  },
  {
   "cell_type": "code",
   "execution_count": 89,
   "metadata": {},
   "outputs": [],
   "source": [
    "X_train_counts = vectorizer.fit_transform(df.new_titles)\n",
    "X_train_tfidf = tfidf_transformer.fit_transform(X_train_counts)\n",
    "\n",
    "X = X_train_tfidf"
   ]
  },
  {
   "cell_type": "markdown",
   "metadata": {},
   "source": [
    "### Questão 4) Implemente o processo de classificação multi rótulos. Implemente 3 classificadores diferentes e compare suas performances. Escolha duas métricas distintas de sua escolha. Justifique suas escolhas e interprete os resultados (2,0 pontos)"
   ]
  },
  {
   "cell_type": "markdown",
   "metadata": {},
   "source": [
    "Para esse estudo será ultilizado as seguintes metricas:\n",
    " - Acuracia\n",
    " - Precisão\n",
    " - Recall\n",
    "\n",
    "O objetivo é tentar identificar o quão preditivo está os modelos analisando os indices de acertos com a acuracia e comparando os resultados com a precisão do modelo e com a sensitividade, com objetivo de descobrir se os modelos tem tendencias a classificação de erros positivos (Precisão) ou negativos(Recall)."
   ]
  },
  {
   "cell_type": "code",
   "execution_count": 20,
   "metadata": {},
   "outputs": [],
   "source": [
    "from sklearn.ensemble import RandomForestClassifier, AdaBoostClassifier\n",
    "from sklearn.metrics import accuracy_score,recall_score,precision_score\n",
    "from sklearn.naive_bayes import GaussianNB\n",
    "from sklearn.multiclass import OneVsRestClassifier\n",
    "from sklearn.linear_model import SGDClassifier\n",
    "from sklearn.linear_model import LogisticRegression"
   ]
  },
  {
   "cell_type": "code",
   "execution_count": 91,
   "metadata": {},
   "outputs": [],
   "source": [
    "abstracts = df.abstracts\n",
    "X_train,X_test,y_train,y_test,abstract_train,abstract_test = train_test_split(X,y,abstracts,test_size=0.2, stratify=y, random_state=10)\n",
    "\n"
   ]
  },
  {
   "cell_type": "code",
   "execution_count": 92,
   "metadata": {},
   "outputs": [
    {
     "data": {
      "text/plain": [
       "'rf = RandomForestClassifier().fit(X_train,y_train)\\ny_pred = rf.predict(X_test)'"
      ]
     },
     "execution_count": 92,
     "metadata": {},
     "output_type": "execute_result"
    }
   ],
   "source": [
    "rf = RandomForestClassifier().fit(X_train,y_train)\n",
    "y_pred = rf.predict(X_test)"
   ]
  },
  {
   "cell_type": "code",
   "execution_count": 65,
   "metadata": {},
   "outputs": [
    {
     "name": "stdout",
     "output_type": "stream",
     "text": [
      "Acuracia: 0.6\n",
      "Precisão: 0.96\n",
      "Sensitividade: 0.43\n"
     ]
    }
   ],
   "source": [
    "print(f'Acuracia: {accuracy_score(y_test,y_pred).round(2)}')\n",
    "print(f'Precisão: {precision_score(y_test,y_pred, average=\"macro\",zero_division=0).round(2)}')\n",
    "print(f'Sensitividade: {recall_score(y_test,y_pred,average=\"macro\").round(2)}')"
   ]
  },
  {
   "cell_type": "code",
   "execution_count": 98,
   "metadata": {},
   "outputs": [],
   "source": [
    "\n",
    "\n",
    "svm = SGDClassifier()\n",
    "clf = OneVsRestClassifier(svm).fit(X_train,y_train)\n",
    "y_pred_svm = clf.predict(X_test)"
   ]
  },
  {
   "cell_type": "code",
   "execution_count": 99,
   "metadata": {},
   "outputs": [
    {
     "name": "stdout",
     "output_type": "stream",
     "text": [
      "Acuracia: 0.23\n",
      "Precisão: 0.24\n",
      "Sensitividade: 0.03\n"
     ]
    }
   ],
   "source": [
    "print(f'Acuracia: {accuracy_score(y_test,y_pred_svm).round(2)}')\n",
    "print(f'Precisão: {precision_score(y_test,y_pred_svm, average=\"macro\",zero_division=0).round(2)}')\n",
    "print(f'Sensitividade: {recall_score(y_test,y_pred_svm,average=\"macro\").round(2)}')"
   ]
  },
  {
   "cell_type": "code",
   "execution_count": 112,
   "metadata": {},
   "outputs": [],
   "source": [
    "\n",
    "lr = LogisticRegression(solver='sag')\n",
    "clf = OneVsRestClassifier(lr).fit(X_train,y_train)\n",
    "y_pred_nb = clf.predict(X_test)"
   ]
  },
  {
   "cell_type": "code",
   "execution_count": 113,
   "metadata": {},
   "outputs": [
    {
     "name": "stdout",
     "output_type": "stream",
     "text": [
      "Acuracia: 0.31\n",
      "Precisão: 0.23\n",
      "Sensitividade: 0.04\n"
     ]
    }
   ],
   "source": [
    "print(f'Acuracia: {accuracy_score(y_test,y_pred_nb).round(2)}')\n",
    "print(f'Precisão: {precision_score(y_test,y_pred_nb, average=\"macro\",zero_division=0).round(2)}')\n",
    "print(f'Sensitividade: {recall_score(y_test,y_pred_nb,average=\"macro\").round(2)}')"
   ]
  },
  {
   "cell_type": "markdown",
   "metadata": {},
   "source": [
    "Dos três modelos ultilizados o que obtevo melhor desempenho foi a RandomForest, com um indice de acerto em 60% (acuracia), porem ao analisar a precisão em conjunto com o recall, percebe-se que o modelo foi bastante preciso quando se trata da repetição da predições ou seja os dados apresentam uma baixa variabilidade concedendo um indice de 96% (precisão), mas tambem houve um indice de recall significativo apontando que o modelo tem uma tendencia a classificação de Falsos Positivos."
   ]
  },
  {
   "cell_type": "markdown",
   "metadata": {},
   "source": [
    "### Questão 5) Replique os mesmos experimentos de extração de características e classificação considerando somente a coluna abstract. (2,0 pontos)"
   ]
  },
  {
   "cell_type": "code",
   "execution_count": 18,
   "metadata": {},
   "outputs": [],
   "source": [
    "X_train_counts = vectorizer.fit_transform(df.new_abstract)\n",
    "X_train_tfidf = tfidf_transformer.fit_transform(X_train_counts)\n",
    "\n",
    "X = X_train_tfidf"
   ]
  },
  {
   "cell_type": "code",
   "execution_count": 19,
   "metadata": {},
   "outputs": [],
   "source": [
    "titles = df.titles\n",
    "X_train,X_test,y_train,y_test,title_train,title_test = train_test_split(X,y,titles,test_size=0.2, stratify=y, random_state=10)"
   ]
  },
  {
   "cell_type": "code",
   "execution_count": 21,
   "metadata": {},
   "outputs": [],
   "source": [
    "rf = RandomForestClassifier().fit(X_train,y_train)\n",
    "y_pred = rf.predict(X_test)"
   ]
  },
  {
   "cell_type": "code",
   "execution_count": 22,
   "metadata": {},
   "outputs": [
    {
     "name": "stdout",
     "output_type": "stream",
     "text": [
      "Acuracia: 0.67\n",
      "Precisão: 0.98\n",
      "Sensitividade: 0.43\n"
     ]
    }
   ],
   "source": [
    "print(f'Acuracia: {accuracy_score(y_test,y_pred).round(2)}')\n",
    "print(f'Precisão: {precision_score(y_test,y_pred, average=\"macro\",zero_division=0).round(2)}')\n",
    "print(f'Sensitividade: {recall_score(y_test,y_pred,average=\"macro\").round(2)}')"
   ]
  },
  {
   "cell_type": "code",
   "execution_count": 23,
   "metadata": {},
   "outputs": [],
   "source": [
    "svm = SGDClassifier()\n",
    "clf = OneVsRestClassifier(svm).fit(X_train,y_train)\n",
    "y_pred_svm = clf.predict(X_test)"
   ]
  },
  {
   "cell_type": "code",
   "execution_count": 24,
   "metadata": {},
   "outputs": [
    {
     "name": "stdout",
     "output_type": "stream",
     "text": [
      "Acuracia: 0.34\n",
      "Precisão: 0.38\n",
      "Sensitividade: 0.05\n"
     ]
    }
   ],
   "source": [
    "print(f'Acuracia: {accuracy_score(y_test,y_pred_svm).round(2)}')\n",
    "print(f'Precisão: {precision_score(y_test,y_pred_svm, average=\"macro\",zero_division=0).round(2)}')\n",
    "print(f'Sensitividade: {recall_score(y_test,y_pred_svm,average=\"macro\").round(2)}')"
   ]
  },
  {
   "cell_type": "code",
   "execution_count": 25,
   "metadata": {},
   "outputs": [],
   "source": [
    "lr = LogisticRegression(solver='sag')\n",
    "clf = OneVsRestClassifier(lr).fit(X_train,y_train)\n",
    "y_pred_nb = clf.predict(X_test)"
   ]
  },
  {
   "cell_type": "code",
   "execution_count": 26,
   "metadata": {},
   "outputs": [
    {
     "name": "stdout",
     "output_type": "stream",
     "text": [
      "Acuracia: 0.36\n",
      "Precisão: 0.28\n",
      "Sensitividade: 0.05\n"
     ]
    }
   ],
   "source": [
    "print(f'Acuracia: {accuracy_score(y_test,y_pred_nb).round(2)}')\n",
    "print(f'Precisão: {precision_score(y_test,y_pred_nb, average=\"macro\",zero_division=0).round(2)}')\n",
    "print(f'Sensitividade: {recall_score(y_test,y_pred_nb,average=\"macro\").round(2)}')"
   ]
  },
  {
   "cell_type": "markdown",
   "metadata": {},
   "source": [
    "Dos três modelos ultilizados o que obtevo melhor desempenho foi a RandomForest, com um indice de acerto em 60% (acuracia), porem ao analisar a precisão em conjunto com o recall, percebe-se que o modelo foi bastante preciso quando se trata da repetição da predições ou seja os dados apresentam uma baixa variabilidade concedendo um indice de 98% (precisão), mas tambem houve um indice de recall significativo apontando que o modelo tem uma tendencia a classificação de Falsos Positivos."
   ]
  },
  {
   "cell_type": "markdown",
   "metadata": {},
   "source": [
    "### Questão 6) Compare os resultados obtidos dos titles e abstracts. Qual atributo é mais discriminativo? (1,0 ponto)"
   ]
  },
  {
   "cell_type": "markdown",
   "metadata": {},
   "source": [
    "Analisando e comparando os resultados, percebe-se que ambos os atributos mostraram ser baastante eficaz quanto a discriminação dos dados, porem apesar do atributo abstract mostrou um maior indice de discriminação, em termos percentuais esta muito proximo do que foi ofertado ao usar o title, analisando a melhor modelo (RandomForest) e a metrica acuracia, percebe-se que a diferença percentual é de 0.07% maior ao usar o atributo abstract."
   ]
  }
 ],
 "metadata": {
  "kernelspec": {
   "display_name": "Python 3.9.12 ('base')",
   "language": "python",
   "name": "python3"
  },
  "language_info": {
   "codemirror_mode": {
    "name": "ipython",
    "version": 3
   },
   "file_extension": ".py",
   "mimetype": "text/x-python",
   "name": "python",
   "nbconvert_exporter": "python",
   "pygments_lexer": "ipython3",
   "version": "3.9.12"
  },
  "orig_nbformat": 4,
  "vscode": {
   "interpreter": {
    "hash": "587ef34fe5d691e12b716dd4d589b272edab2cde3500f557159df2a76b79522a"
   }
  }
 },
 "nbformat": 4,
 "nbformat_minor": 2
}
